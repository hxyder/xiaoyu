{
  "nbformat": 4,
  "nbformat_minor": 0,
  "metadata": {
    "colab": {
      "provenance": [],
      "toc_visible": true
    },
    "kernelspec": {
      "name": "python3",
      "display_name": "Python 3"
    },
    "language_info": {
      "name": "python"
    },
    "accelerator": "GPU",
    "gpuClass": "standard"
  },
  "cells": [
    {
      "cell_type": "markdown",
      "source": [
        "**Stock Prediction RNN**\n",
        "\n",
        "In this project, I perform a time series prediction using a Recurrent Neural Network regressor. For this example, I will predict Apple's stock price 7 days in advance.\n",
        "\n",
        "The particular network architecture I will employ for my RNN is a Long Term Short Memory (LTSM), which helps significantly avoid technical problems with optimization of RNNs."
      ],
      "metadata": {
        "id": "ZVRmVfHBf__W"
      }
    },
    {
      "cell_type": "markdown",
      "metadata": {
        "id": "vwPba0Jg2bSX"
      },
      "source": [
        "# Pytorch LSTM Stock Predictor\n",
        "\n",
        "This is a Pytorch version of the original Keras LSTM Stock Predictor provided by [Super DataScience](https://www.superdatascience.com/deep-learning/), and also available elsewhere in this repo as a notebook."
      ]
    },
    {
      "cell_type": "markdown",
      "metadata": {
        "id": "boG82OJt2n4g"
      },
      "source": [
        "#  1. Loading Data\n",
        "\n",
        "load in our time series - a history of around 140 days of Apple's stock price. Then we need to perform a number of pre-processing steps to prepare it for use with an RNN model.  First off, it is good practice to normalize time series - by normalizing its range.  This helps us avoid serious numerical issues associated how common activation functions (like tanh) transform very large (positive or negative) numbers, as well as helping us to avoid related issues when computing derivatives.\n",
        "\n",
        "Here we normalize the series to lie in the range [0,1] [using this scikit function](http://scikit-learn.org/stable/modules/generated/sklearn.preprocessing.MinMaxScaler.html)."
      ]
    },
    {
      "cell_type": "code",
      "source": [
        "#download the data\n",
        "!wget https://raw.githubusercontent.com/tonylaioffer/stock-prediction-lstm-using-keras/master/data/sandp500/all_stocks_5yr.csv"
      ],
      "metadata": {
        "colab": {
          "base_uri": "https://localhost:8080/"
        },
        "id": "LeC26i7W1oaG",
        "outputId": "2101a56b-3f67-44f2-8520-8691626c67a2"
      },
      "execution_count": null,
      "outputs": [
        {
          "output_type": "stream",
          "name": "stdout",
          "text": [
            "--2022-09-02 03:10:45--  https://raw.githubusercontent.com/tonylaioffer/stock-prediction-lstm-using-keras/master/data/sandp500/all_stocks_5yr.csv\n",
            "Resolving raw.githubusercontent.com (raw.githubusercontent.com)... 185.199.108.133, 185.199.109.133, 185.199.110.133, ...\n",
            "Connecting to raw.githubusercontent.com (raw.githubusercontent.com)|185.199.108.133|:443... connected.\n",
            "HTTP request sent, awaiting response... 200 OK\n",
            "Length: 29580549 (28M) [text/plain]\n",
            "Saving to: ‘all_stocks_5yr.csv’\n",
            "\n",
            "all_stocks_5yr.csv  100%[===================>]  28.21M  --.-KB/s    in 0.08s   \n",
            "\n",
            "2022-09-02 03:10:46 (343 MB/s) - ‘all_stocks_5yr.csv’ saved [29580549/29580549]\n",
            "\n"
          ]
        }
      ]
    },
    {
      "cell_type": "code",
      "source": [
        "!ls"
      ],
      "metadata": {
        "colab": {
          "base_uri": "https://localhost:8080/"
        },
        "id": "4guzgZIy1t2X",
        "outputId": "9e9de42e-212b-4825-f26e-a426a4b2bf41"
      },
      "execution_count": null,
      "outputs": [
        {
          "output_type": "stream",
          "name": "stdout",
          "text": [
            "all_stocks_5yr.csv  sample_data\n"
          ]
        }
      ]
    },
    {
      "cell_type": "code",
      "source": [
        "import numpy as np\n",
        "import pandas as pd \n",
        "import matplotlib.pyplot as plt\n",
        "import torch.nn as nn\n",
        "import torch\n",
        "from torch.autograd import Variable\n",
        "from torch.utils.data import Dataset, DataLoader"
      ],
      "metadata": {
        "id": "KZ7gKO6l1vu7"
      },
      "execution_count": null,
      "outputs": []
    },
    {
      "cell_type": "code",
      "source": [
        "#importing the training set\n",
        "ds = data = pd.read_csv('./all_stocks_5yr.csv')\n",
        "ds_cl = ds[ds['Name']=='SWKS'].close.values #close"
      ],
      "metadata": {
        "id": "9NEpv89u1-eM"
      },
      "execution_count": null,
      "outputs": []
    },
    {
      "cell_type": "code",
      "source": [
        "ds_cl"
      ],
      "metadata": {
        "colab": {
          "base_uri": "https://localhost:8080/"
        },
        "id": "aD4Nozb63H4r",
        "outputId": "6f283b48-31f1-4010-c361-237c518c3a93"
      },
      "execution_count": null,
      "outputs": [
        {
          "output_type": "execute_result",
          "data": {
            "text/plain": [
              "array([ 23.93,  24.25,  24.2 , ...,  94.68, 104.56, 101.35])"
            ]
          },
          "metadata": {},
          "execution_count": 5
        }
      ]
    },
    {
      "cell_type": "code",
      "source": [
        "#feature scaling\n",
        "from sklearn.preprocessing import MinMaxScaler\n",
        "\n",
        "mms = MinMaxScaler(feature_range=(0,1))"
      ],
      "metadata": {
        "id": "pBxjHgtI21Mn"
      },
      "execution_count": null,
      "outputs": []
    },
    {
      "cell_type": "code",
      "source": [
        "#scale the data\n",
        "ds_cl = ds_cl.reshape(ds_cl.shape[0],1)\n",
        "ds_cl = mms.fit_transform(ds_cl)"
      ],
      "metadata": {
        "id": "GXgh5wO_3Mfn"
      },
      "execution_count": null,
      "outputs": []
    },
    {
      "cell_type": "code",
      "source": [
        "ds_cl"
      ],
      "metadata": {
        "colab": {
          "base_uri": "https://localhost:8080/"
        },
        "id": "3LLv_jpE3lTv",
        "outputId": "447a9550-3d3c-493a-b5a2-d19076022bd2"
      },
      "execution_count": null,
      "outputs": [
        {
          "output_type": "execute_result",
          "data": {
            "text/plain": [
              "array([[0.03930131],\n",
              "       [0.04262841],\n",
              "       [0.04210855],\n",
              "       ...,\n",
              "       [0.77490123],\n",
              "       [0.87762529],\n",
              "       [0.84425036]])"
            ]
          },
          "metadata": {},
          "execution_count": 8
        }
      ]
    },
    {
      "cell_type": "markdown",
      "source": [
        "# 2.Cutting time series into sequences"
      ],
      "metadata": {
        "id": "v5ECO0gU30BW"
      }
    },
    {
      "cell_type": "code",
      "source": [
        "#slice data each 7 days\n",
        "def slicedata(data,back):\n",
        "    X, Y = [], []\n",
        "    for i in range(len(data) - back - 1):\n",
        "      X.append(data[i: (i + back),0])\n",
        "      Y.append(data[(i + back),0])\n",
        "    return np.array(X), np.array(Y)\n",
        "X, y = slicedata(ds_cl,7)"
      ],
      "metadata": {
        "id": "AcFzG-ul36zj"
      },
      "execution_count": null,
      "outputs": []
    },
    {
      "cell_type": "code",
      "source": [
        "X.shape[0]"
      ],
      "metadata": {
        "colab": {
          "base_uri": "https://localhost:8080/"
        },
        "id": "Vbqa9adR6tMM",
        "outputId": "00763bb6-c985-4778-d9fc-be5ef5e498a3"
      },
      "execution_count": null,
      "outputs": [
        {
          "output_type": "execute_result",
          "data": {
            "text/plain": [
              "1251"
            ]
          },
          "metadata": {},
          "execution_count": 10
        }
      ]
    },
    {
      "cell_type": "markdown",
      "source": [
        "# 3.Split training and testing sets"
      ],
      "metadata": {
        "id": "yjjTzJws6Lnf"
      }
    },
    {
      "cell_type": "code",
      "source": [
        "#select 2/3 of data as training set, and the later chunck as test\n",
        "X_train, X_test = X[:int(X.shape[0]*0.8)], X[int(X.shape[0]*0.8):]\n",
        "y_train, y_test = y[:int(y.shape[0]*0.80)],y[int(y.shape[0]*0.80):]\n"
      ],
      "metadata": {
        "id": "xPsVW9HK6PAD"
      },
      "execution_count": null,
      "outputs": []
    },
    {
      "cell_type": "code",
      "source": [
        "#check the shape\n",
        "print(X_train.shape[0])\n",
        "print(X_test.shape[0])\n",
        "print(y_train.shape[0])\n",
        "print(y_test.shape[0])"
      ],
      "metadata": {
        "colab": {
          "base_uri": "https://localhost:8080/"
        },
        "id": "bORNT47e7yV5",
        "outputId": "01565dcd-5a4d-4b06-903a-0310931583c4"
      },
      "execution_count": null,
      "outputs": [
        {
          "output_type": "stream",
          "name": "stdout",
          "text": [
            "1000\n",
            "251\n",
            "1000\n",
            "251\n"
          ]
        }
      ]
    },
    {
      "cell_type": "code",
      "source": [
        "X_train"
      ],
      "metadata": {
        "colab": {
          "base_uri": "https://localhost:8080/"
        },
        "id": "Ka6MIGjK9lvd",
        "outputId": "598e627f-580f-4e8b-ce0d-3a71a68a0ad6"
      },
      "execution_count": null,
      "outputs": [
        {
          "output_type": "execute_result",
          "data": {
            "text/plain": [
              "array([[0.03930131, 0.04262841, 0.04210855, ..., 0.05011437, 0.0452277 ,\n",
              "        0.04564358],\n",
              "       [0.04262841, 0.04210855, 0.04314826, ..., 0.0452277 , 0.04564358,\n",
              "        0.03607819],\n",
              "       [0.04210855, 0.04314826, 0.05011437, ..., 0.04564358, 0.03607819,\n",
              "        0.01050114],\n",
              "       ...,\n",
              "       [0.74568517, 0.73674361, 0.74714078, ..., 0.74433354, 0.74433354,\n",
              "        0.73778332],\n",
              "       [0.73674361, 0.74714078, 0.75733001, ..., 0.74433354, 0.73778332,\n",
              "        0.74246205],\n",
              "       [0.74714078, 0.75733001, 0.74433354, ..., 0.73778332, 0.74246205,\n",
              "        0.74069453]])"
            ]
          },
          "metadata": {},
          "execution_count": 13
        }
      ]
    },
    {
      "cell_type": "code",
      "source": [
        "# reshape 2d--3d\n",
        "X_train = np.reshape(X_train, (X_train.shape[0], 1, X_train.shape[1]))\n",
        "X_test = np.reshape(X_test, (X_test.shape[0], 1, X_test.shape[1]))"
      ],
      "metadata": {
        "id": "LxA4U8Hj7--A"
      },
      "execution_count": null,
      "outputs": []
    },
    {
      "cell_type": "code",
      "source": [
        "X_train"
      ],
      "metadata": {
        "colab": {
          "base_uri": "https://localhost:8080/"
        },
        "id": "9EPBPo6S8PfT",
        "outputId": "fe08cf15-e343-4e19-982b-1edaf25b6b0a"
      },
      "execution_count": null,
      "outputs": [
        {
          "output_type": "execute_result",
          "data": {
            "text/plain": [
              "array([[[0.03930131, 0.04262841, 0.04210855, ..., 0.05011437,\n",
              "         0.0452277 , 0.04564358]],\n",
              "\n",
              "       [[0.04262841, 0.04210855, 0.04314826, ..., 0.0452277 ,\n",
              "         0.04564358, 0.03607819]],\n",
              "\n",
              "       [[0.04210855, 0.04314826, 0.05011437, ..., 0.04564358,\n",
              "         0.03607819, 0.01050114]],\n",
              "\n",
              "       ...,\n",
              "\n",
              "       [[0.74568517, 0.73674361, 0.74714078, ..., 0.74433354,\n",
              "         0.74433354, 0.73778332]],\n",
              "\n",
              "       [[0.73674361, 0.74714078, 0.75733001, ..., 0.74433354,\n",
              "         0.73778332, 0.74246205]],\n",
              "\n",
              "       [[0.74714078, 0.75733001, 0.74433354, ..., 0.73778332,\n",
              "         0.74246205, 0.74069453]]])"
            ]
          },
          "metadata": {},
          "execution_count": 15
        }
      ]
    },
    {
      "cell_type": "markdown",
      "source": [
        "# 4.Build and run RNN regression model"
      ],
      "metadata": {
        "id": "37eDH76l-AHn"
      }
    },
    {
      "cell_type": "code",
      "source": [
        "# build model\n",
        "\n",
        "class RNN(nn.Module):\n",
        "  def __init__(self, i_size, h_size, n_layers, o_size, dropout =0.1, bidirectional =True):\n",
        "    super(RNN, self).__init__()\n",
        "    self.num_directions = bidirectional + 1\n",
        "    self.rnn = nn.LSTM(\n",
        "        input_size=i_size,\n",
        "        hidden_size=h_size,\n",
        "        num_layers=n_layers,\n",
        "        dropout=dropout,\n",
        "        bidirectional=bidirectional\n",
        "      )\n",
        "    self.out = nn.Linear(h_size, o_size)\n",
        "  \n",
        "  def forward(self, x, h_state):\n",
        "        r_out, hidden_state = self.rnn(x, h_state)\n",
        "        \n",
        "        hidden_size = hidden_state[-1].size(-1)\n",
        "        r_out = r_out.view(-1, self.num_directions, hidden_size)\n",
        "        outs = self.out(r_out)\n",
        "        \n",
        "        return outs, hidden_state   "
      ],
      "metadata": {
        "id": "t3nDAUea-KDZ"
      },
      "execution_count": null,
      "outputs": []
    },
    {
      "cell_type": "code",
      "source": [
        "#set globals\n",
        "\n",
        "Input_size = 7\n",
        "Hidden_size = 64\n",
        "Num_layers = 3\n",
        "Output_size = 1\n",
        "Batch_size = 128"
      ],
      "metadata": {
        "id": "Op7sfsIzBMop"
      },
      "execution_count": null,
      "outputs": []
    },
    {
      "cell_type": "code",
      "source": [
        "torch.cuda.is_available()"
      ],
      "metadata": {
        "colab": {
          "base_uri": "https://localhost:8080/"
        },
        "id": "6W0fzBGsKC37",
        "outputId": "8674cbef-703d-4a9a-d239-5ceb7514726d"
      },
      "execution_count": null,
      "outputs": [
        {
          "output_type": "execute_result",
          "data": {
            "text/plain": [
              "True"
            ]
          },
          "metadata": {},
          "execution_count": 18
        }
      ]
    },
    {
      "cell_type": "code",
      "source": [
        "# hyper parameters\n",
        "learning_rate = 0.001\n",
        "num_epochs = 300\n",
        "\n",
        "rnn = RNN(Input_size,Hidden_size,Num_layers,Output_size,bidirectional = False)\n",
        "rnn.cuda()\n",
        "\n"
      ],
      "metadata": {
        "colab": {
          "base_uri": "https://localhost:8080/"
        },
        "id": "QKWg89VzBuuw",
        "outputId": "5f9971b4-e02a-4ab6-eb53-ce87bcf98c2e"
      },
      "execution_count": null,
      "outputs": [
        {
          "output_type": "execute_result",
          "data": {
            "text/plain": [
              "RNN(\n",
              "  (rnn): LSTM(7, 64, num_layers=3, dropout=0.1)\n",
              "  (out): Linear(in_features=64, out_features=1, bias=True)\n",
              ")"
            ]
          },
          "metadata": {},
          "execution_count": 19
        }
      ]
    },
    {
      "cell_type": "code",
      "source": [
        "optimiser =  torch.optim.Adam(rnn.parameters(), lr = learning_rate)\n",
        "criterion = nn.MSELoss()\n",
        "\n",
        "hidden_state = None"
      ],
      "metadata": {
        "id": "9kDWGljECqXR"
      },
      "execution_count": null,
      "outputs": []
    },
    {
      "cell_type": "code",
      "source": [
        "rnn"
      ],
      "metadata": {
        "colab": {
          "base_uri": "https://localhost:8080/"
        },
        "id": "9kOl8lTsC5nC",
        "outputId": "a09df981-c527-4653-d81c-29f149fbe6a3"
      },
      "execution_count": null,
      "outputs": [
        {
          "output_type": "execute_result",
          "data": {
            "text/plain": [
              "RNN(\n",
              "  (rnn): LSTM(7, 64, num_layers=3, dropout=0.1)\n",
              "  (out): Linear(in_features=64, out_features=1, bias=True)\n",
              ")"
            ]
          },
          "metadata": {},
          "execution_count": 21
        }
      ]
    },
    {
      "cell_type": "code",
      "source": [
        "history = []\n",
        "X_test_cuda = torch.tensor(X_test).float().cuda()\n",
        "y_test_cuda = torch.tensor(y_test).float().cuda()"
      ],
      "metadata": {
        "id": "3H6X-d5uLwg2"
      },
      "execution_count": null,
      "outputs": []
    },
    {
      "cell_type": "code",
      "source": [
        "inputs_cuda = torch.tensor(X_train).float().cuda()\n",
        "labels_cuda = torch.tensor(y_train).float().cuda()"
      ],
      "metadata": {
        "id": "m363BHcqMCmb"
      },
      "execution_count": null,
      "outputs": []
    },
    {
      "cell_type": "code",
      "source": [
        "for epoch in range(num_epochs):\n",
        "    rnn.train()\n",
        "    output, _ = rnn(inputs_cuda, hidden_state) \n",
        "    # print(output.size())\n",
        "\n",
        "    loss = criterion(output[:,0,:].view(-1), labels_cuda)\n",
        "    optimiser.zero_grad()\n",
        "    loss.backward()                     # back propagation\n",
        "    optimiser.step()                    # update the parameters\n",
        "    \n",
        "    if epoch % 20 == 0:\n",
        "        rnn.eval()\n",
        "        test_output, _ = rnn(X_test_cuda, hidden_state)\n",
        "        test_loss = criterion(test_output.view(-1), y_test_cuda)\n",
        "        print('epoch {}, loss {}, eval loss {}'.format(epoch, loss.item(), test_loss.item()))\n",
        "    else:\n",
        "        print('epoch {}, loss {}'.format(epoch, loss.item()))\n",
        "    history.append(loss.item())"
      ],
      "metadata": {
        "colab": {
          "base_uri": "https://localhost:8080/"
        },
        "id": "smEuoxodMPID",
        "outputId": "1d0dc339-61e0-4029-bc6d-5912d996e82e"
      },
      "execution_count": null,
      "outputs": [
        {
          "output_type": "stream",
          "name": "stdout",
          "text": [
            "epoch 0, loss 0.21793322265148163, eval loss 0.6312540173530579\n",
            "epoch 1, loss 0.19734418392181396\n",
            "epoch 2, loss 0.1786428540945053\n",
            "epoch 3, loss 0.1607620269060135\n",
            "epoch 4, loss 0.1433761864900589\n",
            "epoch 5, loss 0.1260119378566742\n",
            "epoch 6, loss 0.10814819484949112\n",
            "epoch 7, loss 0.08927536010742188\n",
            "epoch 8, loss 0.07141607999801636\n",
            "epoch 9, loss 0.05466269329190254\n",
            "epoch 10, loss 0.04268650338053703\n",
            "epoch 11, loss 0.04435531049966812\n",
            "epoch 12, loss 0.058602869510650635\n",
            "epoch 13, loss 0.06187489256262779\n",
            "epoch 14, loss 0.05314197763800621\n",
            "epoch 15, loss 0.043342478573322296\n",
            "epoch 16, loss 0.0365867093205452\n",
            "epoch 17, loss 0.03492678701877594\n",
            "epoch 18, loss 0.034894052892923355\n",
            "epoch 19, loss 0.03547785431146622\n",
            "epoch 20, loss 0.034904833883047104, eval loss 0.10741881281137466\n",
            "epoch 21, loss 0.03391740843653679\n",
            "epoch 22, loss 0.031825222074985504\n",
            "epoch 23, loss 0.02758507989346981\n",
            "epoch 24, loss 0.023577747866511345\n",
            "epoch 25, loss 0.018874898552894592\n",
            "epoch 26, loss 0.016068974509835243\n",
            "epoch 27, loss 0.01619931496679783\n",
            "epoch 28, loss 0.017699934542179108\n",
            "epoch 29, loss 0.01736927032470703\n",
            "epoch 30, loss 0.013750610873103142\n",
            "epoch 31, loss 0.010286339558660984\n",
            "epoch 32, loss 0.008597434498369694\n",
            "epoch 33, loss 0.00890852976590395\n",
            "epoch 34, loss 0.009763618931174278\n",
            "epoch 35, loss 0.009282915852963924\n",
            "epoch 36, loss 0.008083409629762173\n",
            "epoch 37, loss 0.006141442805528641\n",
            "epoch 38, loss 0.0050699133425951\n",
            "epoch 39, loss 0.00540498411282897\n",
            "epoch 40, loss 0.0062054856680333614, eval loss 0.009189307689666748\n",
            "epoch 41, loss 0.006384019274264574\n",
            "epoch 42, loss 0.004916361067444086\n",
            "epoch 43, loss 0.004015072248876095\n",
            "epoch 44, loss 0.004628715571016073\n",
            "epoch 45, loss 0.005219338461756706\n",
            "epoch 46, loss 0.005140975117683411\n",
            "epoch 47, loss 0.004585522226989269\n",
            "epoch 48, loss 0.0039583779871463776\n",
            "epoch 49, loss 0.0037608621641993523\n",
            "epoch 50, loss 0.004035999067127705\n",
            "epoch 51, loss 0.004188951570540667\n",
            "epoch 52, loss 0.00363590894266963\n",
            "epoch 53, loss 0.003357347333803773\n",
            "epoch 54, loss 0.0033085166942328215\n",
            "epoch 55, loss 0.0034360773861408234\n",
            "epoch 56, loss 0.003526030108332634\n",
            "epoch 57, loss 0.003311824519187212\n",
            "epoch 58, loss 0.0031462963670492172\n",
            "epoch 59, loss 0.0028482978232204914\n",
            "epoch 60, loss 0.0028508631512522697, eval loss 0.011692886240780354\n",
            "epoch 61, loss 0.003079887479543686\n",
            "epoch 62, loss 0.0029448678251355886\n",
            "epoch 63, loss 0.002985545201227069\n",
            "epoch 64, loss 0.0028434537816792727\n",
            "epoch 65, loss 0.00279065128415823\n",
            "epoch 66, loss 0.0028310136403888464\n",
            "epoch 67, loss 0.0026898260693997145\n",
            "epoch 68, loss 0.0024708248674869537\n",
            "epoch 69, loss 0.002742836717516184\n",
            "epoch 70, loss 0.0025313699152320623\n",
            "epoch 71, loss 0.0023671751841902733\n",
            "epoch 72, loss 0.002514849416911602\n",
            "epoch 73, loss 0.002455394947901368\n",
            "epoch 74, loss 0.0026075169444084167\n",
            "epoch 75, loss 0.002739539137110114\n",
            "epoch 76, loss 0.002283442998304963\n",
            "epoch 77, loss 0.002418822841718793\n",
            "epoch 78, loss 0.002383447252213955\n",
            "epoch 79, loss 0.0024334746412932873\n",
            "epoch 80, loss 0.0023355341982096434, eval loss 0.011843262240290642\n",
            "epoch 81, loss 0.002444026991724968\n",
            "epoch 82, loss 0.0021870152559131384\n",
            "epoch 83, loss 0.002316103782504797\n",
            "epoch 84, loss 0.002256537089124322\n",
            "epoch 85, loss 0.002358313649892807\n",
            "epoch 86, loss 0.002177686430513859\n",
            "epoch 87, loss 0.0020559816621243954\n",
            "epoch 88, loss 0.002145538106560707\n",
            "epoch 89, loss 0.0023046648129820824\n",
            "epoch 90, loss 0.0022525088861584663\n",
            "epoch 91, loss 0.002016304526478052\n",
            "epoch 92, loss 0.002069638343527913\n",
            "epoch 93, loss 0.0018993767444044352\n",
            "epoch 94, loss 0.002082717139273882\n",
            "epoch 95, loss 0.0019638421945273876\n",
            "epoch 96, loss 0.002143542980775237\n",
            "epoch 97, loss 0.0021298823412507772\n",
            "epoch 98, loss 0.0021246543619781733\n",
            "epoch 99, loss 0.0019029375398531556\n",
            "epoch 100, loss 0.002076786709949374, eval loss 0.008907560259103775\n",
            "epoch 101, loss 0.0021795914508402348\n",
            "epoch 102, loss 0.002192748710513115\n",
            "epoch 103, loss 0.002021738328039646\n",
            "epoch 104, loss 0.001683642971329391\n",
            "epoch 105, loss 0.001982232555747032\n",
            "epoch 106, loss 0.0020626490004360676\n",
            "epoch 107, loss 0.00196551694534719\n",
            "epoch 108, loss 0.001972312107682228\n",
            "epoch 109, loss 0.0018972762627527118\n",
            "epoch 110, loss 0.0019077770411968231\n",
            "epoch 111, loss 0.001928925747051835\n",
            "epoch 112, loss 0.0019517712062224746\n",
            "epoch 113, loss 0.0018913379171863198\n",
            "epoch 114, loss 0.002022345317527652\n",
            "epoch 115, loss 0.0018868633778765798\n",
            "epoch 116, loss 0.001818286720663309\n",
            "epoch 117, loss 0.001948102260939777\n",
            "epoch 118, loss 0.0018769435118883848\n",
            "epoch 119, loss 0.0018960593733936548\n",
            "epoch 120, loss 0.0017977460520341992, eval loss 0.008514962159097195\n",
            "epoch 121, loss 0.001943471492268145\n",
            "epoch 122, loss 0.001763993175700307\n",
            "epoch 123, loss 0.0017251840326935053\n",
            "epoch 124, loss 0.001809417735785246\n",
            "epoch 125, loss 0.001652078120969236\n",
            "epoch 126, loss 0.0018956458661705256\n",
            "epoch 127, loss 0.0018085564952343702\n",
            "epoch 128, loss 0.0016347584314644337\n",
            "epoch 129, loss 0.0017509490717202425\n",
            "epoch 130, loss 0.0019607364665716887\n",
            "epoch 131, loss 0.0016963665839284658\n",
            "epoch 132, loss 0.0017927793087437749\n",
            "epoch 133, loss 0.0016556306509301066\n",
            "epoch 134, loss 0.001738461316563189\n",
            "epoch 135, loss 0.0016814969712868333\n",
            "epoch 136, loss 0.0016267228638753295\n",
            "epoch 137, loss 0.0017363602528348565\n",
            "epoch 138, loss 0.0017526553710922599\n",
            "epoch 139, loss 0.0018605933291837573\n",
            "epoch 140, loss 0.00169956695754081, eval loss 0.0074935369193553925\n",
            "epoch 141, loss 0.001799683435820043\n",
            "epoch 142, loss 0.001703571411781013\n",
            "epoch 143, loss 0.0015861399006098509\n",
            "epoch 144, loss 0.00157577870413661\n",
            "epoch 145, loss 0.0017599372658878565\n",
            "epoch 146, loss 0.0018666904652491212\n",
            "epoch 147, loss 0.0018359394744038582\n",
            "epoch 148, loss 0.0016588954022154212\n",
            "epoch 149, loss 0.0017372893635183573\n",
            "epoch 150, loss 0.0018904691096395254\n",
            "epoch 151, loss 0.0015620914055034518\n",
            "epoch 152, loss 0.0016960569191724062\n",
            "epoch 153, loss 0.0016674130456522107\n",
            "epoch 154, loss 0.0015478600980713964\n",
            "epoch 155, loss 0.0016794608673080802\n",
            "epoch 156, loss 0.0018139492021873593\n",
            "epoch 157, loss 0.0016292441869154572\n",
            "epoch 158, loss 0.001584195182658732\n",
            "epoch 159, loss 0.0016818346921354532\n",
            "epoch 160, loss 0.001841326360590756, eval loss 0.007304506376385689\n",
            "epoch 161, loss 0.0016194955678656697\n",
            "epoch 162, loss 0.0018083489267155528\n",
            "epoch 163, loss 0.0015202546492218971\n",
            "epoch 164, loss 0.0015270923031494021\n",
            "epoch 165, loss 0.0016759313875809312\n",
            "epoch 166, loss 0.0015288017457351089\n",
            "epoch 167, loss 0.001622717478312552\n",
            "epoch 168, loss 0.0016109314747154713\n",
            "epoch 169, loss 0.0017221999587491155\n",
            "epoch 170, loss 0.0016199706587940454\n",
            "epoch 171, loss 0.0015717234928160906\n",
            "epoch 172, loss 0.0015815704828128219\n",
            "epoch 173, loss 0.001655200612731278\n",
            "epoch 174, loss 0.0017673326656222343\n",
            "epoch 175, loss 0.001675464678555727\n",
            "epoch 176, loss 0.0016747728222981095\n",
            "epoch 177, loss 0.0016289077466353774\n",
            "epoch 178, loss 0.001655684201978147\n",
            "epoch 179, loss 0.0016754306852817535\n",
            "epoch 180, loss 0.0016793435206636786, eval loss 0.006765482481569052\n",
            "epoch 181, loss 0.0017514482606202364\n",
            "epoch 182, loss 0.0014872493920847774\n",
            "epoch 183, loss 0.0016464127693325281\n",
            "epoch 184, loss 0.0016338720452040434\n",
            "epoch 185, loss 0.0015502172755077481\n",
            "epoch 186, loss 0.0015277081402018666\n",
            "epoch 187, loss 0.0015675351023674011\n",
            "epoch 188, loss 0.0014915185747668147\n",
            "epoch 189, loss 0.0017417354974895716\n",
            "epoch 190, loss 0.0015724655240774155\n",
            "epoch 191, loss 0.0015224376693367958\n",
            "epoch 192, loss 0.0016376113053411245\n",
            "epoch 193, loss 0.001675489591434598\n",
            "epoch 194, loss 0.0015663873637095094\n",
            "epoch 195, loss 0.0015680301003158092\n",
            "epoch 196, loss 0.0016715960809960961\n",
            "epoch 197, loss 0.0015552480472251773\n",
            "epoch 198, loss 0.0017145605525001884\n",
            "epoch 199, loss 0.0016118178609758615\n",
            "epoch 200, loss 0.001531423069536686, eval loss 0.006647951900959015\n",
            "epoch 201, loss 0.0015908292261883616\n",
            "epoch 202, loss 0.001631579245440662\n",
            "epoch 203, loss 0.0015234049642458558\n",
            "epoch 204, loss 0.0016718816477805376\n",
            "epoch 205, loss 0.0015357584925368428\n",
            "epoch 206, loss 0.0015674612950533628\n",
            "epoch 207, loss 0.0016801310703158379\n",
            "epoch 208, loss 0.0014987330650910735\n",
            "epoch 209, loss 0.001721611013635993\n",
            "epoch 210, loss 0.0015818750252947211\n",
            "epoch 211, loss 0.0014785713283345103\n",
            "epoch 212, loss 0.0017298241145908833\n",
            "epoch 213, loss 0.0016350694932043552\n",
            "epoch 214, loss 0.0015621932689100504\n",
            "epoch 215, loss 0.001683354377746582\n",
            "epoch 216, loss 0.001611615065485239\n",
            "epoch 217, loss 0.0015490296063944697\n",
            "epoch 218, loss 0.0014922647969797254\n",
            "epoch 219, loss 0.0016029061516746879\n",
            "epoch 220, loss 0.0015806200681254268, eval loss 0.006493754684925079\n",
            "epoch 221, loss 0.0015536616556346416\n",
            "epoch 222, loss 0.0015416821697726846\n",
            "epoch 223, loss 0.0016004019416868687\n",
            "epoch 224, loss 0.0014950516633689404\n",
            "epoch 225, loss 0.0014726712834089994\n",
            "epoch 226, loss 0.0014885107520967722\n",
            "epoch 227, loss 0.0015633509028702974\n",
            "epoch 228, loss 0.001513647846877575\n",
            "epoch 229, loss 0.0014314985601231456\n",
            "epoch 230, loss 0.0016722994623705745\n",
            "epoch 231, loss 0.0014939071843400598\n",
            "epoch 232, loss 0.0014917227672412992\n",
            "epoch 233, loss 0.0014569559134542942\n",
            "epoch 234, loss 0.0015263648238033056\n",
            "epoch 235, loss 0.0014953346690163016\n",
            "epoch 236, loss 0.0014978473773226142\n",
            "epoch 237, loss 0.0015675283502787352\n",
            "epoch 238, loss 0.0015092605026438832\n",
            "epoch 239, loss 0.0015307704452425241\n",
            "epoch 240, loss 0.0015364785213023424, eval loss 0.00624204333871603\n",
            "epoch 241, loss 0.0015878038248047233\n",
            "epoch 242, loss 0.001472886884585023\n",
            "epoch 243, loss 0.0015419216360896826\n",
            "epoch 244, loss 0.0015170505503192544\n",
            "epoch 245, loss 0.001419300097040832\n",
            "epoch 246, loss 0.0015348526649177074\n",
            "epoch 247, loss 0.0014105445006862283\n",
            "epoch 248, loss 0.001541539211757481\n",
            "epoch 249, loss 0.0015244237147271633\n",
            "epoch 250, loss 0.0016310150967910886\n",
            "epoch 251, loss 0.0014089866308495402\n",
            "epoch 252, loss 0.0014438731595873833\n",
            "epoch 253, loss 0.001492813229560852\n",
            "epoch 254, loss 0.0014768774854019284\n",
            "epoch 255, loss 0.0014211891684681177\n",
            "epoch 256, loss 0.0014465001877397299\n",
            "epoch 257, loss 0.0014907350996509194\n",
            "epoch 258, loss 0.0014962157001718879\n",
            "epoch 259, loss 0.0015579821774736047\n",
            "epoch 260, loss 0.0015730010345578194, eval loss 0.0060340347699820995\n",
            "epoch 261, loss 0.0015077664284035563\n",
            "epoch 262, loss 0.0014773710863664746\n",
            "epoch 263, loss 0.0016874995781108737\n",
            "epoch 264, loss 0.001518186996690929\n",
            "epoch 265, loss 0.0014809553977102041\n",
            "epoch 266, loss 0.0016458869213238358\n",
            "epoch 267, loss 0.0013751935912296176\n",
            "epoch 268, loss 0.0014557631220668554\n",
            "epoch 269, loss 0.0015034483512863517\n",
            "epoch 270, loss 0.0013184994459152222\n",
            "epoch 271, loss 0.0014213513350114226\n",
            "epoch 272, loss 0.001500284532085061\n",
            "epoch 273, loss 0.0013964095851406455\n",
            "epoch 274, loss 0.0014255797723308206\n",
            "epoch 275, loss 0.0013132961466908455\n",
            "epoch 276, loss 0.0014646733179688454\n",
            "epoch 277, loss 0.0015822789864614606\n",
            "epoch 278, loss 0.0013458559988066554\n",
            "epoch 279, loss 0.0014503005659207702\n",
            "epoch 280, loss 0.001470391871407628, eval loss 0.0057504428550601006\n",
            "epoch 281, loss 0.0015975352143868804\n",
            "epoch 282, loss 0.0014657200081273913\n",
            "epoch 283, loss 0.0013119387440383434\n",
            "epoch 284, loss 0.0013158312067389488\n",
            "epoch 285, loss 0.0013644578866660595\n",
            "epoch 286, loss 0.0015406659804284573\n",
            "epoch 287, loss 0.001569218933582306\n",
            "epoch 288, loss 0.0014152992516756058\n",
            "epoch 289, loss 0.0012661853106692433\n",
            "epoch 290, loss 0.0015173854772001505\n",
            "epoch 291, loss 0.0013585868291556835\n",
            "epoch 292, loss 0.001459592254832387\n",
            "epoch 293, loss 0.001478351652622223\n",
            "epoch 294, loss 0.0015286427224054933\n",
            "epoch 295, loss 0.0013041584752500057\n",
            "epoch 296, loss 0.0014150621136650443\n",
            "epoch 297, loss 0.0014421959640458226\n",
            "epoch 298, loss 0.0013358150608837605\n",
            "epoch 299, loss 0.0013602398103103042\n"
          ]
        }
      ]
    },
    {
      "cell_type": "code",
      "source": [
        "rnn.out.weight "
      ],
      "metadata": {
        "colab": {
          "base_uri": "https://localhost:8080/"
        },
        "id": "DASlX8ysMmPf",
        "outputId": "202dc76c-2756-4a14-d2aa-ab08e1469db7"
      },
      "execution_count": null,
      "outputs": [
        {
          "output_type": "execute_result",
          "data": {
            "text/plain": [
              "Parameter containing:\n",
              "tensor([[ 0.0146, -0.0704, -0.1098,  0.0585, -0.0641,  0.0420, -0.0850, -0.0278,\n",
              "         -0.0126,  0.0552,  0.0179,  0.0239,  0.0249, -0.0207,  0.0402,  0.0980,\n",
              "          0.0568,  0.0190, -0.0743,  0.0045, -0.1276,  0.0703,  0.0474,  0.1023,\n",
              "         -0.1202,  0.0758,  0.0590,  0.1076,  0.1246, -0.0181,  0.0960,  0.0134,\n",
              "         -0.0367,  0.0928, -0.0404,  0.0659,  0.1182,  0.0359, -0.0458,  0.0547,\n",
              "          0.1150,  0.0329, -0.0246, -0.0248,  0.0672, -0.0206,  0.1156,  0.0127,\n",
              "          0.0854, -0.0098,  0.0954, -0.0110, -0.0711,  0.0817,  0.0886,  0.0536,\n",
              "         -0.1094,  0.1162, -0.0045, -0.0333,  0.0185, -0.0265, -0.0801, -0.1197]],\n",
              "       device='cuda:0', requires_grad=True)"
            ]
          },
          "metadata": {},
          "execution_count": 25
        }
      ]
    },
    {
      "cell_type": "code",
      "source": [
        "for param in rnn.parameters():\n",
        "    print(param.data)"
      ],
      "metadata": {
        "colab": {
          "base_uri": "https://localhost:8080/"
        },
        "id": "S-6tM72aMp4b",
        "outputId": "588391bb-1c64-473a-f7b5-f6f46b3a0790"
      },
      "execution_count": null,
      "outputs": [
        {
          "output_type": "stream",
          "name": "stdout",
          "text": [
            "tensor([[ 0.1418, -0.0753, -0.0560,  ..., -0.0437,  0.0789,  0.1489],\n",
            "        [ 0.0440,  0.1231,  0.0576,  ...,  0.0730,  0.0897, -0.1022],\n",
            "        [-0.0071,  0.0239,  0.0080,  ..., -0.0504, -0.0768, -0.0351],\n",
            "        ...,\n",
            "        [-0.0207,  0.0831,  0.0885,  ..., -0.0837, -0.0101,  0.1399],\n",
            "        [ 0.1356, -0.0248, -0.0782,  ..., -0.0476,  0.0665,  0.0155],\n",
            "        [-0.0686, -0.0085,  0.1494,  ..., -0.0580, -0.0508,  0.0923]],\n",
            "       device='cuda:0')\n",
            "tensor([[-0.0599,  0.0513, -0.0582,  ..., -0.1144, -0.0215,  0.0295],\n",
            "        [-0.1123,  0.0531,  0.0726,  ...,  0.1132, -0.0406, -0.0036],\n",
            "        [ 0.0500,  0.0349,  0.1278,  ...,  0.0403, -0.0682, -0.0300],\n",
            "        ...,\n",
            "        [ 0.0199,  0.0909, -0.0629,  ...,  0.0990, -0.1040, -0.0896],\n",
            "        [-0.0522,  0.0922, -0.1183,  ..., -0.0711, -0.0909,  0.0649],\n",
            "        [-0.0717,  0.0836, -0.1347,  ...,  0.0435,  0.0543, -0.0087]],\n",
            "       device='cuda:0')\n",
            "tensor([-0.0578, -0.1321, -0.0192,  0.0188, -0.0199, -0.1100,  0.0798, -0.0044,\n",
            "        -0.0780,  0.0082,  0.0865, -0.0882, -0.0972, -0.0252, -0.0281,  0.0560,\n",
            "        -0.0774,  0.1395, -0.0632, -0.0335,  0.0859, -0.0434,  0.0671, -0.0471,\n",
            "        -0.0120, -0.0075, -0.0831, -0.0105, -0.0271,  0.1328,  0.0459, -0.0694,\n",
            "         0.1304, -0.0766,  0.0091,  0.0615,  0.0324,  0.1178,  0.0400,  0.0775,\n",
            "         0.0875,  0.0039, -0.0536, -0.0826, -0.1052, -0.0309,  0.1067,  0.1016,\n",
            "         0.0289,  0.1053, -0.0275,  0.1285, -0.1187,  0.0068,  0.0429, -0.0200,\n",
            "        -0.0663, -0.0140,  0.0998,  0.0774,  0.0925,  0.0921,  0.0273,  0.0849,\n",
            "        -0.0491, -0.0873,  0.0684,  0.0907,  0.1089,  0.0661, -0.0143,  0.0143,\n",
            "         0.0517, -0.0333,  0.0924,  0.0214,  0.0377, -0.1293,  0.0398, -0.1043,\n",
            "        -0.1076,  0.0103,  0.1010,  0.0144,  0.1062,  0.0075,  0.1242,  0.0082,\n",
            "        -0.0248,  0.0199,  0.0348, -0.1031,  0.0351,  0.0944,  0.0322,  0.1100,\n",
            "         0.0416,  0.1131,  0.0261, -0.0458,  0.0240, -0.0990, -0.0035,  0.0790,\n",
            "        -0.0520, -0.1031,  0.0927, -0.0420, -0.0708, -0.0571, -0.0202, -0.0723,\n",
            "        -0.1151,  0.1182,  0.0071,  0.0286, -0.1205, -0.0589,  0.0117,  0.0397,\n",
            "         0.0523,  0.0692,  0.0523, -0.0500,  0.0908, -0.0841,  0.1071, -0.0693,\n",
            "         0.1115, -0.1055, -0.0368, -0.0194,  0.0513,  0.1179,  0.0531, -0.1109,\n",
            "        -0.0747,  0.0261,  0.0201, -0.0443,  0.0285,  0.0341, -0.0406, -0.0218,\n",
            "         0.0916, -0.0221, -0.0941,  0.0488, -0.0147,  0.0565, -0.0630, -0.0170,\n",
            "         0.0762, -0.1070, -0.0448,  0.0224,  0.0331, -0.0527,  0.0110, -0.0185,\n",
            "         0.0065,  0.0595,  0.1209,  0.0842,  0.0696,  0.0330, -0.1031, -0.0295,\n",
            "         0.1109,  0.0076,  0.0076,  0.0348, -0.0052,  0.0107, -0.0992, -0.0434,\n",
            "         0.0820, -0.0767,  0.0826,  0.0803, -0.0796,  0.1245, -0.0720, -0.0232,\n",
            "        -0.1003,  0.0403,  0.0395,  0.0061, -0.0225,  0.0242,  0.0046,  0.0377,\n",
            "         0.1432, -0.0367, -0.0837,  0.1138,  0.0027,  0.1126,  0.0869, -0.0075,\n",
            "         0.0391, -0.1190,  0.0379, -0.1014, -0.0964, -0.0092,  0.0380,  0.0951,\n",
            "         0.0008, -0.0288, -0.0525,  0.0688, -0.1089,  0.0772,  0.0782, -0.1074,\n",
            "         0.0087,  0.0379,  0.0342,  0.0861,  0.1000,  0.1108,  0.0936, -0.0853,\n",
            "        -0.0800,  0.1012, -0.0129,  0.1233, -0.0517,  0.0554,  0.0565,  0.0843,\n",
            "         0.0276,  0.0364,  0.1064, -0.0190,  0.0498, -0.0456,  0.0079, -0.0059,\n",
            "        -0.0376, -0.0537, -0.0974,  0.0015, -0.1178,  0.1249, -0.0757,  0.0802,\n",
            "         0.0683,  0.0049, -0.0678, -0.0381,  0.1200,  0.0521, -0.0881,  0.1024],\n",
            "       device='cuda:0')\n",
            "tensor([ 0.0966, -0.0224,  0.0076,  0.1219, -0.0044,  0.0464,  0.0470, -0.0098,\n",
            "         0.1013, -0.0039, -0.0492, -0.0397, -0.0658, -0.1442,  0.1127, -0.0489,\n",
            "         0.0591,  0.1276, -0.0446,  0.0361,  0.0123, -0.1142,  0.0631,  0.0236,\n",
            "         0.0451, -0.0215, -0.0038,  0.0362, -0.0375,  0.0962,  0.0520, -0.0334,\n",
            "        -0.0199, -0.0292,  0.0307, -0.0732,  0.0861,  0.0907,  0.1086,  0.0995,\n",
            "         0.1387,  0.0377, -0.0587, -0.0547, -0.0677,  0.0237,  0.0111, -0.0112,\n",
            "        -0.0106, -0.1168, -0.0621, -0.0664, -0.0726,  0.0076,  0.1093,  0.0931,\n",
            "         0.0975, -0.1364,  0.1192,  0.1070,  0.0853, -0.0394, -0.0960, -0.0929,\n",
            "         0.0213, -0.0525,  0.0259, -0.0990, -0.1225,  0.0482, -0.1116, -0.0528,\n",
            "        -0.0279,  0.0194, -0.1076, -0.1041,  0.0973, -0.0583,  0.0507,  0.0567,\n",
            "         0.0967, -0.0656, -0.0953, -0.1162,  0.0704,  0.0148,  0.1088,  0.1118,\n",
            "        -0.0346, -0.1031, -0.0250,  0.0914, -0.0729,  0.0780,  0.0036,  0.0487,\n",
            "         0.0984, -0.0755,  0.0811, -0.1006, -0.0649, -0.0621, -0.0899, -0.1072,\n",
            "         0.0712, -0.0571,  0.0239, -0.0008, -0.1166,  0.0059, -0.0033, -0.0254,\n",
            "        -0.0550,  0.0662, -0.1117,  0.0939, -0.0614, -0.0400,  0.0470,  0.1019,\n",
            "        -0.0776, -0.0528, -0.0892, -0.1038,  0.0497,  0.0789, -0.0583, -0.0045,\n",
            "         0.0378,  0.0112, -0.0735, -0.0451, -0.0635, -0.0214,  0.1072, -0.0238,\n",
            "         0.0504, -0.0273, -0.0997, -0.1021, -0.0150, -0.0343,  0.0164, -0.0570,\n",
            "         0.0099,  0.0338,  0.1326,  0.0319,  0.0922,  0.1179,  0.1113,  0.0069,\n",
            "        -0.1120, -0.0676, -0.0912, -0.0276,  0.0962, -0.0418, -0.0693, -0.0889,\n",
            "        -0.0603, -0.0636,  0.0440,  0.0202,  0.0412, -0.0637,  0.0061, -0.0247,\n",
            "         0.1237,  0.1021,  0.0808, -0.0186, -0.0980, -0.0756,  0.0944,  0.0202,\n",
            "         0.1027, -0.0326,  0.0179, -0.1005, -0.0525,  0.1044, -0.0832, -0.0992,\n",
            "         0.0176, -0.0722,  0.0839,  0.0318,  0.0604,  0.0133, -0.1082, -0.0607,\n",
            "        -0.0606,  0.0129, -0.0663, -0.0675,  0.0075, -0.1153, -0.0919, -0.0079,\n",
            "        -0.0293,  0.1020, -0.0129,  0.0578, -0.0068,  0.0280,  0.0745, -0.0517,\n",
            "         0.0017,  0.1329, -0.0555,  0.0914, -0.1024,  0.0277, -0.0287,  0.0806,\n",
            "        -0.0053,  0.0474,  0.0457, -0.0715, -0.0540,  0.0131, -0.0938, -0.0974,\n",
            "        -0.0503, -0.0987,  0.0022,  0.1036,  0.0873, -0.0241,  0.0422,  0.0840,\n",
            "         0.0893,  0.0030, -0.0209, -0.0592, -0.0518,  0.0658,  0.0411, -0.0189,\n",
            "         0.1163,  0.0256, -0.0732,  0.0422, -0.0352,  0.0803,  0.1218,  0.1199,\n",
            "         0.0781,  0.0276,  0.0617, -0.0556, -0.0028, -0.0411,  0.0626, -0.0274],\n",
            "       device='cuda:0')\n",
            "tensor([[ 0.0504,  0.1167,  0.0573,  ...,  0.0671,  0.0118, -0.0715],\n",
            "        [-0.0724, -0.0921, -0.0914,  ..., -0.1135, -0.1013,  0.1067],\n",
            "        [ 0.0566, -0.0058, -0.0122,  ..., -0.0322,  0.0259, -0.0741],\n",
            "        ...,\n",
            "        [-0.1515,  0.0288,  0.0503,  ..., -0.1300, -0.0124, -0.0031],\n",
            "        [-0.1416, -0.1364, -0.0753,  ..., -0.0931, -0.1071,  0.0437],\n",
            "        [-0.0534,  0.0449, -0.1138,  ..., -0.0722,  0.0631,  0.0231]],\n",
            "       device='cuda:0')\n",
            "tensor([[-0.1123,  0.1130, -0.0839,  ..., -0.0351,  0.0955,  0.0593],\n",
            "        [ 0.0237,  0.0689, -0.0641,  ...,  0.0157, -0.1372, -0.1366],\n",
            "        [ 0.1311, -0.0581, -0.0081,  ..., -0.0689, -0.0836,  0.1095],\n",
            "        ...,\n",
            "        [ 0.1287,  0.0943,  0.1149,  ...,  0.0142, -0.0117, -0.0016],\n",
            "        [-0.1076,  0.0991,  0.1010,  ..., -0.0756,  0.0632,  0.0074],\n",
            "        [ 0.1030,  0.0561,  0.0405,  ...,  0.0918,  0.1041,  0.0353]],\n",
            "       device='cuda:0')\n",
            "tensor([-0.0606,  0.0803,  0.0060, -0.0368,  0.0593, -0.1078,  0.0153,  0.1205,\n",
            "        -0.0467, -0.0989,  0.1827, -0.0138, -0.0873,  0.0410, -0.0090, -0.0319,\n",
            "         0.0058,  0.0216,  0.0821,  0.0781,  0.0586, -0.0995,  0.0067, -0.0243,\n",
            "        -0.0545, -0.0607, -0.0479,  0.1074,  0.1113, -0.0874,  0.0406,  0.0528,\n",
            "        -0.1122, -0.0356,  0.0752, -0.0628,  0.0914, -0.1261,  0.1102,  0.1104,\n",
            "        -0.0767, -0.0427,  0.0335,  0.0097,  0.0813, -0.0008, -0.0679,  0.1200,\n",
            "         0.0229,  0.0724,  0.0609, -0.1002,  0.0113,  0.0762,  0.1049, -0.0226,\n",
            "         0.0614, -0.0124, -0.0191, -0.1048, -0.0144,  0.1028,  0.0993,  0.0159,\n",
            "        -0.0308, -0.1337,  0.0239,  0.0171,  0.1290, -0.0749,  0.0491, -0.0911,\n",
            "        -0.0817,  0.0532,  0.0629,  0.0495,  0.1038, -0.0791,  0.0187,  0.0389,\n",
            "        -0.0026, -0.0622, -0.0535, -0.1304, -0.0655,  0.0634, -0.0116,  0.0519,\n",
            "         0.0467, -0.0657,  0.1223,  0.0917, -0.0724, -0.0314,  0.0174, -0.0298,\n",
            "        -0.0519, -0.0671, -0.0608,  0.1230,  0.0034,  0.0082, -0.1162,  0.0170,\n",
            "        -0.0783,  0.0259,  0.0203,  0.1102,  0.0859, -0.0671,  0.0938,  0.0698,\n",
            "         0.0106,  0.0065, -0.0842,  0.0888,  0.0486, -0.0741, -0.0857,  0.0243,\n",
            "         0.0751, -0.1094, -0.1058,  0.0798,  0.0129,  0.0260, -0.1144,  0.0937,\n",
            "         0.0748,  0.0370, -0.0755,  0.0966,  0.0606,  0.0700,  0.1012, -0.0874,\n",
            "        -0.0256,  0.0671,  0.0985, -0.0311, -0.0232, -0.0841,  0.0012,  0.0494,\n",
            "        -0.0230,  0.0077,  0.0328,  0.0775,  0.1173,  0.0390, -0.0073,  0.0476,\n",
            "        -0.1002, -0.0274, -0.0592,  0.1072, -0.0741,  0.1043,  0.0336,  0.0083,\n",
            "         0.0509,  0.0706, -0.0605,  0.0908,  0.0988, -0.0095, -0.0066, -0.0799,\n",
            "         0.0570, -0.0108, -0.0337,  0.0450, -0.0919, -0.0151,  0.0205, -0.0939,\n",
            "        -0.0320, -0.1443,  0.1148,  0.0437,  0.0326,  0.0299,  0.1214, -0.0608,\n",
            "         0.0990, -0.0020,  0.0298,  0.0042,  0.0691,  0.0835, -0.0672,  0.0693,\n",
            "         0.1001,  0.0178, -0.1178,  0.0721, -0.0269, -0.0627, -0.0340, -0.0205,\n",
            "         0.0221,  0.1242,  0.0285,  0.0337,  0.0656,  0.0482,  0.0208,  0.0518,\n",
            "         0.1079,  0.0421,  0.0558,  0.1078,  0.1122,  0.1269,  0.0087,  0.0987,\n",
            "         0.0845, -0.0928,  0.0966,  0.0248,  0.0002, -0.0491, -0.1089,  0.0880,\n",
            "        -0.0372, -0.0515, -0.0614,  0.1226,  0.0685,  0.0567,  0.1282,  0.1780,\n",
            "        -0.0035, -0.0012, -0.1108,  0.1174, -0.0468, -0.0127, -0.0690, -0.0805,\n",
            "        -0.0570, -0.0355,  0.0497,  0.0512,  0.1295,  0.0855, -0.0420, -0.0650,\n",
            "         0.0993,  0.0015, -0.0750,  0.1187,  0.1305, -0.0710, -0.0948,  0.1024],\n",
            "       device='cuda:0')\n",
            "tensor([-0.0615,  0.0871,  0.0958, -0.0818,  0.0685,  0.1056,  0.0124,  0.0720,\n",
            "         0.0437, -0.0656,  0.1235,  0.0994,  0.0889, -0.0928,  0.0739,  0.0480,\n",
            "        -0.0051, -0.1080,  0.0026,  0.0200,  0.0782, -0.0857, -0.0915, -0.1064,\n",
            "         0.0319,  0.0966, -0.1069,  0.0155,  0.0395,  0.0976,  0.0045,  0.0176,\n",
            "        -0.0433, -0.0625,  0.0351, -0.0710, -0.0227,  0.0464,  0.0410,  0.1771,\n",
            "        -0.1035,  0.1062,  0.1029, -0.0532,  0.1030,  0.1295, -0.0582,  0.0379,\n",
            "         0.0559,  0.1238,  0.0224, -0.0241,  0.1390, -0.0190,  0.0812,  0.0993,\n",
            "        -0.0701, -0.0122,  0.0871, -0.0804,  0.0215,  0.1084,  0.0678,  0.0010,\n",
            "        -0.1026, -0.1176,  0.0187, -0.0933, -0.1034,  0.0025,  0.0573,  0.0383,\n",
            "        -0.1076,  0.0080, -0.0364,  0.0209, -0.0342,  0.0805, -0.0710, -0.0035,\n",
            "         0.0730,  0.1114, -0.0051, -0.0344, -0.0780, -0.0888,  0.0698, -0.0637,\n",
            "         0.1146, -0.0490,  0.0450,  0.0211,  0.1178, -0.1180,  0.1250,  0.0268,\n",
            "        -0.1082, -0.0968, -0.0005,  0.0725,  0.1187, -0.0265,  0.0346, -0.0453,\n",
            "         0.0016, -0.0980, -0.0567, -0.0352, -0.1151,  0.1094, -0.0477,  0.0319,\n",
            "         0.0435, -0.0303,  0.0554, -0.0029, -0.0081,  0.0273,  0.1027, -0.0259,\n",
            "        -0.1234, -0.0004,  0.1000,  0.1159,  0.0440,  0.0448, -0.0924, -0.1038,\n",
            "        -0.0468, -0.0993, -0.0706, -0.0188,  0.0657,  0.1158, -0.1035, -0.0979,\n",
            "         0.1049, -0.0176,  0.0105,  0.1015,  0.0047,  0.0994,  0.0439,  0.0241,\n",
            "         0.0683,  0.0645,  0.0224,  0.0780, -0.0290, -0.0836,  0.0273, -0.0784,\n",
            "         0.0167,  0.0203,  0.0759, -0.1180,  0.0448, -0.0018, -0.1026,  0.1258,\n",
            "        -0.0194, -0.0357, -0.0151, -0.0211, -0.0640, -0.1066,  0.0033, -0.0647,\n",
            "        -0.0324, -0.1248, -0.0562,  0.0186, -0.1021, -0.0537,  0.0381,  0.0721,\n",
            "        -0.0648,  0.0680, -0.0021, -0.0204,  0.1417,  0.0029, -0.0955, -0.0612,\n",
            "         0.0541,  0.0642, -0.0056,  0.1155, -0.0447, -0.0159,  0.0184, -0.0020,\n",
            "         0.1163,  0.0842, -0.0634,  0.0083,  0.0951, -0.0021,  0.0010, -0.0761,\n",
            "         0.0735, -0.0108, -0.0218, -0.1230, -0.0057,  0.0035,  0.1178, -0.0178,\n",
            "         0.0191,  0.0127,  0.0485, -0.0707,  0.0799, -0.1041,  0.0940,  0.1266,\n",
            "        -0.0829,  0.0975, -0.0520, -0.0306,  0.0726, -0.0349, -0.0772, -0.0007,\n",
            "         0.0653,  0.0035, -0.0599,  0.0722,  0.1026, -0.0658,  0.0820,  0.1906,\n",
            "         0.0904, -0.0209,  0.0996,  0.0547,  0.0408, -0.0601, -0.0776, -0.0293,\n",
            "         0.0974, -0.1184, -0.0845, -0.0467, -0.0406, -0.0387, -0.0738, -0.1164,\n",
            "         0.0965,  0.0769,  0.0116,  0.1179, -0.0153,  0.0371, -0.1225, -0.0985],\n",
            "       device='cuda:0')\n",
            "tensor([[-0.0989,  0.0584, -0.0267,  ..., -0.0438, -0.0410, -0.1261],\n",
            "        [-0.0534,  0.0613, -0.0770,  ..., -0.1163, -0.0634, -0.0735],\n",
            "        [ 0.1096, -0.0558, -0.0431,  ...,  0.0724, -0.0734,  0.1241],\n",
            "        ...,\n",
            "        [ 0.0386,  0.0577,  0.0800,  ...,  0.0164,  0.0106, -0.1046],\n",
            "        [ 0.0961, -0.0111,  0.0471,  ...,  0.1079,  0.0460,  0.0796],\n",
            "        [ 0.1151, -0.0416, -0.0060,  ...,  0.0436, -0.0977,  0.0846]],\n",
            "       device='cuda:0')\n",
            "tensor([[ 0.0788,  0.0311,  0.0808,  ..., -0.0017,  0.0863,  0.1160],\n",
            "        [-0.0366,  0.0869, -0.1139,  ...,  0.0240,  0.0804,  0.0559],\n",
            "        [-0.1124,  0.0300, -0.0824,  ...,  0.1241,  0.0900, -0.0787],\n",
            "        ...,\n",
            "        [ 0.1348, -0.0817,  0.1315,  ..., -0.1028,  0.0049, -0.0685],\n",
            "        [-0.1245, -0.0321, -0.0686,  ...,  0.0170,  0.0495, -0.0981],\n",
            "        [ 0.0199,  0.0804, -0.1208,  ...,  0.0076, -0.0180,  0.0820]],\n",
            "       device='cuda:0')\n",
            "tensor([ 0.1092, -0.0474,  0.0680,  0.0653, -0.0281,  0.1074,  0.1234, -0.0446,\n",
            "        -0.1106,  0.0163, -0.1000, -0.0939,  0.0646, -0.0309, -0.0351,  0.0862,\n",
            "         0.0189,  0.0964,  0.0523,  0.0140, -0.0559,  0.1294,  0.0052, -0.0112,\n",
            "        -0.0680,  0.0616, -0.0717,  0.1020, -0.1033, -0.0201,  0.0067, -0.0879,\n",
            "        -0.0034,  0.0403, -0.0552,  0.0799, -0.1071, -0.1074,  0.1112,  0.0928,\n",
            "        -0.1183,  0.1176,  0.1301, -0.0122,  0.0434, -0.0921, -0.1260, -0.1347,\n",
            "         0.0742,  0.1049, -0.0205,  0.1129,  0.0401,  0.0806,  0.0170,  0.0841,\n",
            "        -0.0010, -0.0395,  0.0044,  0.0800,  0.0892, -0.0690, -0.0225, -0.0319,\n",
            "        -0.0154,  0.0468, -0.0863, -0.1261,  0.0580,  0.0144, -0.0132, -0.1005,\n",
            "        -0.0521,  0.0711,  0.0249, -0.0436,  0.1259, -0.1240,  0.0343, -0.1191,\n",
            "         0.1219,  0.0620,  0.0666, -0.0008,  0.1182, -0.0918,  0.1039, -0.0306,\n",
            "        -0.1142,  0.0747, -0.0541, -0.0894, -0.0845, -0.0487,  0.0079,  0.1112,\n",
            "         0.1072, -0.0692,  0.0745,  0.0759,  0.1142, -0.0874,  0.1200,  0.1164,\n",
            "        -0.0511, -0.0125,  0.0491, -0.0988,  0.0349, -0.0080, -0.0700,  0.0929,\n",
            "         0.0342, -0.0063, -0.0768, -0.0035,  0.0921,  0.0851, -0.0048,  0.0840,\n",
            "        -0.0544, -0.0959, -0.0440, -0.0250,  0.0052,  0.1021, -0.0547, -0.0739,\n",
            "         0.0643, -0.0498, -0.0855, -0.1043, -0.0264,  0.0262, -0.0678,  0.0271,\n",
            "        -0.0121, -0.0376,  0.1097,  0.0146, -0.0578,  0.0403, -0.0378,  0.0631,\n",
            "        -0.0413, -0.1208, -0.0381, -0.0302, -0.0016,  0.0622,  0.0042, -0.0307,\n",
            "         0.0594, -0.0278, -0.0003, -0.1079,  0.0742,  0.0551, -0.0006, -0.1085,\n",
            "        -0.0236, -0.0613, -0.0694,  0.1105, -0.0307, -0.0299, -0.1160, -0.0443,\n",
            "        -0.0706, -0.0904, -0.1062,  0.0859,  0.0277, -0.0821, -0.0765, -0.0594,\n",
            "        -0.0439,  0.0864, -0.0377,  0.0895,  0.0908, -0.0493,  0.0268,  0.0776,\n",
            "        -0.0283,  0.1297,  0.0441,  0.0300,  0.0446,  0.0863, -0.0089, -0.0526,\n",
            "        -0.1103, -0.0030,  0.0652,  0.0439, -0.1121, -0.0688, -0.0748,  0.0730,\n",
            "        -0.0934, -0.0471,  0.0320,  0.0601,  0.0276,  0.0844,  0.0597,  0.0380,\n",
            "        -0.0742, -0.0668,  0.0180,  0.0247, -0.0435,  0.1039,  0.0366,  0.0908,\n",
            "        -0.1042, -0.1008,  0.1030, -0.0919,  0.0576,  0.0492,  0.1280,  0.0858,\n",
            "         0.0727,  0.0796, -0.1192,  0.0843, -0.0034,  0.0561, -0.0660, -0.1037,\n",
            "        -0.0712, -0.0979, -0.0692, -0.0002,  0.0050,  0.0417,  0.0643,  0.0086,\n",
            "         0.1033, -0.0682, -0.0990, -0.1205,  0.0919, -0.0480,  0.1055, -0.1130,\n",
            "        -0.1154, -0.0417,  0.0667, -0.0351,  0.0246,  0.0358, -0.0653,  0.1167],\n",
            "       device='cuda:0')\n",
            "tensor([-0.0530, -0.0756, -0.0696,  0.0100,  0.0471, -0.0947, -0.1049, -0.0970,\n",
            "         0.0142,  0.0238,  0.1060,  0.0134, -0.1051, -0.1290, -0.1198, -0.0395,\n",
            "        -0.0516, -0.0773, -0.0803, -0.0585,  0.0475,  0.0696,  0.0805, -0.0364,\n",
            "         0.0308,  0.0478, -0.0270,  0.0675,  0.0793, -0.0597, -0.0596, -0.0376,\n",
            "         0.0420,  0.1288,  0.0841,  0.0909, -0.0227,  0.0971, -0.0267, -0.0435,\n",
            "         0.0225,  0.0670,  0.0099, -0.0100, -0.0273, -0.0471, -0.0137, -0.1370,\n",
            "        -0.0638, -0.0868,  0.1133, -0.0383, -0.0545, -0.1080, -0.1271,  0.1154,\n",
            "        -0.0144,  0.1033, -0.0768,  0.0686, -0.0969, -0.0841,  0.0725,  0.0025,\n",
            "        -0.0087, -0.0109, -0.0678, -0.0783,  0.0888, -0.0117,  0.0287, -0.0305,\n",
            "         0.0801,  0.0690,  0.1225,  0.1143, -0.0800,  0.0448, -0.0479, -0.1181,\n",
            "         0.1159,  0.0871,  0.0083, -0.0621, -0.0375,  0.0888, -0.0852, -0.0105,\n",
            "        -0.0676, -0.0108,  0.0821, -0.0835,  0.0920, -0.0748,  0.0062,  0.0491,\n",
            "         0.0286, -0.1010,  0.0115, -0.1001, -0.1027, -0.0290, -0.0295,  0.0771,\n",
            "        -0.0352,  0.0012, -0.0393, -0.0251, -0.1078, -0.0449, -0.0836, -0.0855,\n",
            "        -0.0280,  0.0895, -0.0038, -0.0190,  0.1138, -0.0824,  0.0561, -0.0500,\n",
            "         0.0671,  0.1016,  0.0921, -0.0714,  0.0934, -0.0649,  0.0752,  0.0178,\n",
            "        -0.0952,  0.0858, -0.0431,  0.0065, -0.0795,  0.0515, -0.0161,  0.0002,\n",
            "        -0.0384,  0.0375,  0.0863, -0.0101,  0.0102, -0.0032,  0.1062, -0.0457,\n",
            "         0.0971,  0.1134, -0.0496, -0.1002, -0.1064, -0.0418, -0.0349,  0.0805,\n",
            "        -0.0913,  0.0384, -0.0965,  0.1230, -0.0432, -0.0041,  0.0245,  0.1123,\n",
            "        -0.1235,  0.0737,  0.0545,  0.0813, -0.0230, -0.0287, -0.0665,  0.0495,\n",
            "        -0.1034,  0.0674,  0.0509,  0.0918, -0.0819, -0.0686,  0.0592,  0.0394,\n",
            "         0.0159, -0.0079, -0.0857,  0.0248, -0.0636,  0.0473, -0.0460, -0.0686,\n",
            "         0.0306,  0.0161, -0.0185, -0.0311,  0.1079, -0.0031,  0.0307,  0.0632,\n",
            "         0.0803,  0.0828,  0.1270, -0.0118, -0.0472, -0.0169, -0.0626,  0.0246,\n",
            "        -0.0206,  0.0036, -0.0061,  0.0172,  0.0605, -0.0453, -0.0936, -0.0877,\n",
            "        -0.0334, -0.0097, -0.0138, -0.0073, -0.0054,  0.1304,  0.0349, -0.1184,\n",
            "        -0.0820,  0.0217, -0.0961, -0.0349,  0.0571,  0.0402, -0.0575, -0.0074,\n",
            "         0.0591, -0.0999,  0.1008, -0.0793, -0.1237,  0.0933,  0.0666, -0.0388,\n",
            "        -0.0703, -0.0111,  0.0009, -0.0411,  0.0279, -0.0438,  0.0288, -0.0877,\n",
            "         0.0149, -0.0745,  0.0529,  0.0989,  0.0637,  0.0261, -0.0029,  0.0482,\n",
            "         0.0221,  0.0539,  0.0946, -0.0022, -0.0507,  0.0052,  0.0074, -0.0164],\n",
            "       device='cuda:0')\n",
            "tensor([[ 0.0146, -0.0704, -0.1098,  0.0585, -0.0641,  0.0420, -0.0850, -0.0278,\n",
            "         -0.0126,  0.0552,  0.0179,  0.0239,  0.0249, -0.0207,  0.0402,  0.0980,\n",
            "          0.0568,  0.0190, -0.0743,  0.0045, -0.1276,  0.0703,  0.0474,  0.1023,\n",
            "         -0.1202,  0.0758,  0.0590,  0.1076,  0.1246, -0.0181,  0.0960,  0.0134,\n",
            "         -0.0367,  0.0928, -0.0404,  0.0659,  0.1182,  0.0359, -0.0458,  0.0547,\n",
            "          0.1150,  0.0329, -0.0246, -0.0248,  0.0672, -0.0206,  0.1156,  0.0127,\n",
            "          0.0854, -0.0098,  0.0954, -0.0110, -0.0711,  0.0817,  0.0886,  0.0536,\n",
            "         -0.1094,  0.1162, -0.0045, -0.0333,  0.0185, -0.0265, -0.0801, -0.1197]],\n",
            "       device='cuda:0')\n",
            "tensor([0.0619], device='cuda:0')\n"
          ]
        }
      ]
    },
    {
      "cell_type": "markdown",
      "source": [
        "# 5.checking model performance"
      ],
      "metadata": {
        "id": "pV3gmUl_Muf8"
      }
    },
    {
      "cell_type": "code",
      "source": [
        "plt.plot(history)"
      ],
      "metadata": {
        "colab": {
          "base_uri": "https://localhost:8080/",
          "height": 282
        },
        "id": "fnbE7IkAMyIh",
        "outputId": "4fd14f3f-ad70-4eb2-9a95-de9357c020a9"
      },
      "execution_count": null,
      "outputs": [
        {
          "output_type": "execute_result",
          "data": {
            "text/plain": [
              "[<matplotlib.lines.Line2D at 0x7f9a484d60d0>]"
            ]
          },
          "metadata": {},
          "execution_count": 29
        },
        {
          "output_type": "display_data",
          "data": {
            "text/plain": [
              "<Figure size 432x288 with 1 Axes>"
            ],
            "image/png": "[encoded data removed]"
          },
          "metadata": {
            "needs_background": "light"
          }
        }
      ]
    },
    {
      "cell_type": "code",
      "source": [
        "X_test[0]"
      ],
      "metadata": {
        "colab": {
          "base_uri": "https://localhost:8080/"
        },
        "id": "HYqcuAdQM44a",
        "outputId": "234e1768-e4e0-46db-a099-80e35b1ce6be"
      },
      "execution_count": null,
      "outputs": [
        {
          "output_type": "execute_result",
          "data": {
            "text/plain": [
              "array([[0.75733001, 0.74433354, 0.74433354, 0.73778332, 0.74246205,\n",
              "        0.74069453, 0.74474943]])"
            ]
          },
          "metadata": {},
          "execution_count": 30
        }
      ]
    },
    {
      "cell_type": "code",
      "source": [
        "rnn.eval()\n",
        "test_predict, _ = rnn(X_test_cuda, hidden_state)\n",
        "test_predict_cpu = test_predict.cpu().detach().numpy()"
      ],
      "metadata": {
        "id": "qC5Fn9oRM9OG"
      },
      "execution_count": null,
      "outputs": []
    },
    {
      "cell_type": "code",
      "source": [
        "test_predict_cpu.shape"
      ],
      "metadata": {
        "colab": {
          "base_uri": "https://localhost:8080/"
        },
        "id": "AVJBIoP_NAex",
        "outputId": "7e9b4bc5-1e74-46bd-a53c-9ff42f8bf81e"
      },
      "execution_count": null,
      "outputs": [
        {
          "output_type": "execute_result",
          "data": {
            "text/plain": [
              "(251, 1, 1)"
            ]
          },
          "metadata": {},
          "execution_count": 32
        }
      ]
    },
    {
      "cell_type": "code",
      "source": [
        "plt.plot(mms.inverse_transform(y_test.reshape(-1,1)))\n",
        "plt.plot(mms.inverse_transform(test_predict_cpu.reshape(-1,1)))"
      ],
      "metadata": {
        "colab": {
          "base_uri": "https://localhost:8080/",
          "height": 285
        },
        "id": "kosHMhF2NB68",
        "outputId": "3a8eb7b8-126f-4a80-d05b-6f4ac00dfc19"
      },
      "execution_count": null,
      "outputs": [
        {
          "output_type": "execute_result",
          "data": {
            "text/plain": [
              "[<matplotlib.lines.Line2D at 0x7f9a48181a10>]"
            ]
          },
          "metadata": {},
          "execution_count": 34
        },
        {
          "output_type": "display_data",
          "data": {
            "text/plain": [
              "<Figure size 432x288 with 1 Axes>"
            ],
            "image/png": "[encoded data removed]"
          },
          "metadata": {
            "needs_background": "light"
          }
        }
      ]
    },
    {
      "cell_type": "code",
      "source": [
        "# plot original data\n",
        "plt.plot(mms.inverse_transform(y.reshape(-1,1)), color='k')\n",
        "\n",
        "# train_inputs = torch.tensor(X_train).float().cuda()\n",
        "train_pred, hidden_state = rnn(inputs_cuda, None)\n",
        "train_pred_cpu = train_pred.cpu().detach().numpy()\n",
        "\n",
        "# use hidden state from previous training data\n",
        "test_predict, _ = rnn(X_test_cuda, hidden_state)\n",
        "test_predict_cpu = test_predict.cpu().detach().numpy()\n",
        "\n",
        "# plt.plot(scl.inverse_transform(y_test.reshape(-1,1)))\n",
        "split_pt = int(X.shape[0] * 0.80) + 7 # window_size\n",
        "plt.plot(np.arange(7, split_pt, 1), mms.inverse_transform(train_pred_cpu.reshape(-1,1)), color='b')\n",
        "plt.plot(np.arange(split_pt, split_pt + len(test_predict_cpu), 1), mms.inverse_transform(test_predict_cpu.reshape(-1,1)), color='r')\n",
        "\n",
        "# pretty up graph\n",
        "plt.xlabel('day')\n",
        "plt.ylabel('price of MMM stock')\n",
        "plt.legend(['original series','training fit','testing fit'], loc='center left', bbox_to_anchor=(1, 0.5))\n",
        "plt.show()"
      ],
      "metadata": {
        "colab": {
          "base_uri": "https://localhost:8080/",
          "height": 281
        },
        "id": "KQU5Dv3ONOIA",
        "outputId": "4704139e-e177-49cd-b843-3574528d58d1"
      },
      "execution_count": null,
      "outputs": [
        {
          "output_type": "display_data",
          "data": {
            "text/plain": [
              "<Figure size 432x288 with 1 Axes>"
            ],
            "image/png": "[encoded data removed]"
          },
          "metadata": {
            "needs_background": "light"
          }
        }
      ]
    }
  ]
}